{
 "cells": [
  {
   "cell_type": "markdown",
   "id": "396f0069",
   "metadata": {},
   "source": [
    "# Conditional statements, logical operators, code blocks and Scope"
   ]
  },
  {
   "cell_type": "markdown",
   "id": "75bf96a4",
   "metadata": {},
   "source": [
    "### If-else"
   ]
  },
  {
   "cell_type": "code",
   "execution_count": 1,
   "id": "297b0116",
   "metadata": {},
   "outputs": [
    {
     "name": "stdout",
     "output_type": "stream",
     "text": [
      "Welcome to the rollercoaster!\n",
      "What is your height in cm? 158\n",
      "You can ride the rollercoaster.\n"
     ]
    }
   ],
   "source": [
    "#Program to check the height to allow for rollercoaster ride\n",
    "\n",
    "print(\"Welcome to the rollercoaster!\")\n",
    "\n",
    "height = int(input(\"What is your height in cm? \"))\n",
    "\n",
    "if height > 120:\n",
    "    print(\"You can ride the rollercoaster.\")\n",
    "\n",
    "else:\n",
    "    print(\"Try when you grow taller.\")"
   ]
  },
  {
   "cell_type": "code",
   "execution_count": 2,
   "id": "4a4afc93",
   "metadata": {},
   "outputs": [
    {
     "name": "stdout",
     "output_type": "stream",
     "text": [
      "Enter the number: 59\n",
      "The given number is odd\n"
     ]
    }
   ],
   "source": [
    "# Check if number is odd or even\n",
    "\n",
    "number = int(input(\"Enter the number: \"))\n",
    "\n",
    "if number%2 == 0:\n",
    "    print(\"The given number is even\")\n",
    "else:\n",
    "    print(\"The given number is odd\")"
   ]
  },
  {
   "cell_type": "code",
   "execution_count": 4,
   "id": "1fda1c0e",
   "metadata": {},
   "outputs": [
    {
     "name": "stdout",
     "output_type": "stream",
     "text": [
      "Enter the height in cm: 168\n",
      "Enter the age: 13\n",
      "You have to pay $7.\n"
     ]
    }
   ],
   "source": [
    "# Nested if-else statements\n",
    "\n",
    "height = float(input(\"Enter the height in cm: \"))\n",
    "age = int(input(\"Enter the age: \"))\n",
    "\n",
    "if height>120:\n",
    "    if age>18: \n",
    "        print(\"You have to pay $12.\")\n",
    "    elif age<=18 and age>=12:\n",
    "        print(\"You have to pay $7.\")\n",
    "    else:\n",
    "        print(\"You have to pay $5.\")\n",
    "\n",
    "else:\n",
    "    print(\"Sorry, you can't ride.\")\n",
    "    "
   ]
  },
  {
   "cell_type": "markdown",
   "id": "98187ea2",
   "metadata": {},
   "source": [
    "### BMI Calculator"
   ]
  },
  {
   "cell_type": "code",
   "execution_count": 7,
   "id": "ce59d92a",
   "metadata": {},
   "outputs": [
    {
     "name": "stdout",
     "output_type": "stream",
     "text": [
      "Enter your height in meters: 1.75\n",
      "Enter your weight in kilograms: 98\n",
      "Your BMI is 32.0, you are obese.\n"
     ]
    }
   ],
   "source": [
    "# Enter your height in meters e.g., 1.55\n",
    "height = float(input(\"Enter your height in meters: \"))\n",
    "# Enter your weight in kilograms e.g., 72\n",
    "weight = int(input(\"Enter your weight in kilograms: \"))\n",
    "\n",
    "BMI = weight / height**2\n",
    "\n",
    "if BMI >=35:\n",
    "  print(f\"Your BMI is {BMI}, you are clinically obese.\")\n",
    "elif BMI<35 and BMI>=30:\n",
    "  print(f\"Your BMI is {BMI}, you are obese.\")\n",
    "elif BMI<30 and BMI>=25:\n",
    "  print(f\"Your BMI is {BMI}, you are slightly overweight.\")\n",
    "elif BMI<25 and BMI>18.5:\n",
    "  print(f\"Your BMI is {BMI}, you have a normal weight.\")\n",
    "else:\n",
    "  print(f\"Your BMI is {BMI}, you are underweight.\")"
   ]
  },
  {
   "cell_type": "markdown",
   "id": "b761da1c",
   "metadata": {},
   "source": [
    "### Lear Years"
   ]
  },
  {
   "cell_type": "code",
   "execution_count": 8,
   "id": "d433a55b",
   "metadata": {},
   "outputs": [
    {
     "name": "stdout",
     "output_type": "stream",
     "text": [
      "Enter the year: 1776\n",
      "Leap year\n"
     ]
    }
   ],
   "source": [
    "year = int(input(\"Enter the year: \"))\n",
    "\n",
    "if year%4==0:\n",
    "  if year%100==0:\n",
    "    if year%400==0:\n",
    "      print(\"Leap year\")\n",
    "    else:\n",
    "      print(\"Not leap year\")\n",
    "  else:\n",
    "    print(\"Leap year\")\n",
    "else:\n",
    "  print(\"Not leap year\")\n"
   ]
  },
  {
   "cell_type": "code",
   "execution_count": 13,
   "id": "79ff931a",
   "metadata": {},
   "outputs": [
    {
     "name": "stdout",
     "output_type": "stream",
     "text": [
      "Enter your height in cm: 154\n",
      "Enter your age: 8\n",
      "Do you want photos? Yes or No? No\n",
      "The total bill is $5\n"
     ]
    }
   ],
   "source": [
    "# Multiple if statements\n",
    "\n",
    "height = int(input(\"Enter your height in cm: \"))\n",
    "age = int(input(\"Enter your age: \"))\n",
    "photos = input(\"Do you want photos? Yes or No? \")\n",
    "\n",
    "if height>120:\n",
    "    if age>=18:\n",
    "        payment = 12\n",
    "    elif age>=12 and age<18:\n",
    "        payment = 7\n",
    "    else:\n",
    "        payment = 5\n",
    "    \n",
    "    if photos==\"Yes\":\n",
    "            payment+=3\n",
    "    else:\n",
    "        payment=payment\n",
    "    \n",
    "    print(f\"The total bill is ${payment}\")\n",
    "    \n",
    "else:\n",
    "    print(\"Sorry, you can't ride.\")"
   ]
  },
  {
   "cell_type": "markdown",
   "id": "f48739ac",
   "metadata": {},
   "source": [
    "### Pizza bill calculator"
   ]
  },
  {
   "cell_type": "code",
   "execution_count": 14,
   "id": "48f8ccc7",
   "metadata": {},
   "outputs": [
    {
     "name": "stdout",
     "output_type": "stream",
     "text": [
      "Thank you for choosing Python Pizza Deliveries!\n",
      "S\n",
      "N\n",
      "Y\n",
      "Your final bill is: $16.\n"
     ]
    }
   ],
   "source": [
    "print(\"Thank you for choosing Python Pizza Deliveries!\")\n",
    "size = input() # What size pizza do you want? S, M, or L\n",
    "add_pepperoni = input() # Do you want pepperoni? Y or N\n",
    "extra_cheese = input() # Do you want extra cheese? Y or N\n",
    "\n",
    "if size==\"S\":\n",
    "  bill=15\n",
    "elif size==\"M\":\n",
    "  bill=20\n",
    "else:\n",
    "  bill=25\n",
    "\n",
    "if add_pepperoni==\"Y\":\n",
    "  bill+=3\n",
    "else:\n",
    "  bill=bill\n",
    "\n",
    "if extra_cheese==\"Y\":\n",
    "  bill+=1\n",
    "else:\n",
    "  bill=bill\n",
    "\n",
    "print(f\"Your final bill is: ${bill}.\")\n",
    "  "
   ]
  },
  {
   "cell_type": "code",
   "execution_count": 19,
   "id": "2a7b8046",
   "metadata": {},
   "outputs": [
    {
     "name": "stdout",
     "output_type": "stream",
     "text": [
      "The Love Calculator is calculating your score...\n",
      "Ashton Kutcher\n",
      "Mila Kunis\n",
      "Your score is 63.\n"
     ]
    }
   ],
   "source": [
    "#Love Calculator\n",
    "\n",
    "\"\"\"You are going to write a program that tests the compatibility between two people.\n",
    "\n",
    "To work out the love score between two people:\n",
    "\n",
    "Take both people's names and check for the number of times the letters in the word TRUE occurs.\n",
    "\n",
    "Then check for the number of times the letters in the word LOVE occurs.\n",
    "\n",
    "Then combine these numbers to make a 2 digit number.\n",
    "\n",
    "For Love Scores less than 10 or greater than 90, the message should be:\n",
    "\n",
    "\"Your score is *x*, you go together like coke and mentos.\"\n",
    "For Love Scores between 40 and 50, the message should be:\n",
    "\n",
    "\"Your score is *y*, you are alright together.\"\n",
    "Otherwise, the message will just be their score. e.g.:\n",
    "\n",
    "\"Your score is *z*.\"\n",
    "\"\"\"\n",
    "\n",
    "print(\"The Love Calculator is calculating your score...\")\n",
    "name1 = input() # What is your name?\n",
    "name2 = input() # What is their name?\n",
    "# 🚨 Don't change the code above 👆\n",
    "# Write your code below this line 👇\n",
    "\n",
    "name1 = name1.lower()\n",
    "name2 = name2.lower()\n",
    "\n",
    "t = name1.count('t')+name2.count('t')\n",
    "r = name1.count('r')+name2.count('r')\n",
    "u = name1.count('u')+name2.count('u')\n",
    "e = name1.count('e')+name2.count('e')\n",
    "\n",
    "l = name1.count('l')+name2.count('l')\n",
    "o = name1.count('o')+name2.count('o')\n",
    "v = name1.count('v')+name2.count('v')\n",
    "\n",
    "first_digit = t+r+u+e\n",
    "last_digit = l+o+v+e\n",
    "\n",
    "number = int(str(first_digit)+str(last_digit))\n",
    "\n",
    "if number < 10 or number > 90:\n",
    "  print(f\"Your score is {number}, you go together like coke and mentos.\")\n",
    "elif number>=40 and number<=50:\n",
    "  print(f\"Your score is {number}, you are alright together.\")\n",
    "else:\n",
    "  print(f\"Your score is {number}.\")"
   ]
  },
  {
   "cell_type": "markdown",
   "id": "74a4fa55",
   "metadata": {},
   "source": [
    "# Day 3 Project: Treasure Island"
   ]
  },
  {
   "cell_type": "code",
   "execution_count": 21,
   "id": "b7733026",
   "metadata": {},
   "outputs": [
    {
     "name": "stdout",
     "output_type": "stream",
     "text": [
      "Welcome to Treasure Island.\n",
      "Your mission is to find the treasure.\n",
      "You're at a cross road. Where do you want to go? Type \"left\" or \"right\"left\n",
      "You come to a lake. There is an island in the middle of the lake. Type \"wait\" to wait for a boat. Type \"swim\" to swim across.wait\n",
      "You arrive at the island unharmed. There is a house with 3 doors. One red, one yellow and one blue. Which colour do you choose?Blue\n",
      "Eaten by beasts. Game Over.\n"
     ]
    }
   ],
   "source": [
    "print(\"\"\"Welcome to Treasure Island.\n",
    "Your mission is to find the treasure.\"\"\")\n",
    "\n",
    "direction = input('You\\'re at a cross road. Where do you want to go? Type \"left\" or \"right\"').lower()\n",
    "\n",
    "if direction == \"left\":\n",
    "    action = input('You come to a lake. There is an island in the middle of the lake. Type \"wait\" to wait for a boat. Type \"swim\" to swim across.').lower()\n",
    "    \n",
    "    if action == \"wait\":\n",
    "        door = input('You arrive at the island unharmed. There is a house with 3 doors. One red, one yellow and one blue. Which colour do you choose?').lower()\n",
    "        \n",
    "        if door == \"red\":\n",
    "            print(\"Burned by fire. Game Over.\")\n",
    "        elif door == \"blue\":\n",
    "            print(\"Eaten by beasts. Game Over.\")\n",
    "        elif door == \"yellow\":\n",
    "            print(\"You Win!\")\n",
    "        else:\n",
    "            print(\"Game Over.\")\n",
    "    else:\n",
    "        print(\"Attacked by trout. Game Over.\")\n",
    "else:\n",
    "    print(\"Fall into a hole. Game Over.\")\n",
    "    "
   ]
  },
  {
   "cell_type": "code",
   "execution_count": 23,
   "id": "53b83aac",
   "metadata": {},
   "outputs": [],
   "source": [
    "# Important Note\n",
    "\n",
    "#To type \"you're\" as a string inside a print or input statement \n",
    "#without any issue, type you\\'re - the backslash indicates that the word \n",
    "#should be treated as a string.\n",
    "\n"
   ]
  },
  {
   "cell_type": "code",
   "execution_count": null,
   "id": "0c45159e",
   "metadata": {},
   "outputs": [],
   "source": []
  }
 ],
 "metadata": {
  "kernelspec": {
   "display_name": "Python 3 (ipykernel)",
   "language": "python",
   "name": "python3"
  },
  "language_info": {
   "codemirror_mode": {
    "name": "ipython",
    "version": 3
   },
   "file_extension": ".py",
   "mimetype": "text/x-python",
   "name": "python",
   "nbconvert_exporter": "python",
   "pygments_lexer": "ipython3",
   "version": "3.11.4"
  }
 },
 "nbformat": 4,
 "nbformat_minor": 5
}
