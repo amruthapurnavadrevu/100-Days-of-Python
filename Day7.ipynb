{
 "cells": [
  {
   "cell_type": "markdown",
   "id": "66e667a6",
   "metadata": {},
   "source": [
    "# Hangman Game"
   ]
  },
  {
   "cell_type": "code",
   "execution_count": 1,
   "id": "db7fbd6c",
   "metadata": {},
   "outputs": [
    {
     "name": "stdout",
     "output_type": "stream",
     "text": [
      "3\n",
      "adobe\n",
      "['_', '_', '_', '_', '_']\n",
      "Total guesses:  5\n",
      "Enter your alphabet: A\n",
      "['a', '_', '_', '_', '_']\n",
      "You have 4 left\n",
      "Enter your alphabet: B\n",
      "['a', '_', '_', 'b', '_']\n",
      "You have 3 left\n",
      "Enter your alphabet: C\n",
      "['a', '_', '_', 'b', '_']\n",
      "You have 2 left\n",
      "Enter your alphabet: D\n",
      "['a', 'd', '_', 'b', '_']\n",
      "You have 1 left\n",
      "Enter your alphabet: E\n",
      "['a', 'd', '_', 'b', 'e']\n",
      "You have 0 left\n",
      "ad_be\n",
      "You lost your lives. Try again!\n"
     ]
    }
   ],
   "source": [
    "import random\n",
    "\n",
    "words = [\"adobe\",\"acrobat\",\"antiquity\"]\n",
    "\n",
    "print(len(words))\n",
    "\n",
    "word = words[random.randint(0,len(words)-1)]\n",
    "\n",
    "print(word)\n",
    "\n",
    "guess = ['_'] * len(word)\n",
    "\n",
    "print(guess)\n",
    "\n",
    "alphabet = ['a', 'b', 'c', 'd', 'e', 'f', 'g', 'h', 'i', 'j', 'k', 'l', 'm', 'n', 'o', 'p', 'q', 'r', 's', 't', 'u', 'v', 'w', 'x', 'y', 'z']\n",
    "\n",
    "no_of_guesses = len(set(word))\n",
    "print(\"Total guesses: \",no_of_guesses)\n",
    "\n",
    "while(no_of_guesses>0):\n",
    "    your_pick = input(\"Enter your alphabet: \").lower()\n",
    "    if your_pick in alphabet:\n",
    "        for i in range(len(word)):\n",
    "            if your_pick == word[i]:\n",
    "                guess[i] = your_pick\n",
    "        alphabet.remove(your_pick)\n",
    "        no_of_guesses-=1\n",
    "    else:\n",
    "        print(\"You have already picked this letter. Pick another letter.\")\n",
    "    print(guess)\n",
    "    print(f\"You have {no_of_guesses} left\")\n",
    "    \n",
    "guessword = ''.join(guess)\n",
    "\n",
    "print(guessword)\n",
    "\n",
    "if guessword == word:\n",
    "    print(\"You have guessed the word. Congrats!\")\n",
    "else:\n",
    "    print(\"You lost your lives. Try again!\")\n",
    "        \n",
    "    "
   ]
  },
  {
   "cell_type": "code",
   "execution_count": null,
   "id": "c6e30e5a",
   "metadata": {},
   "outputs": [],
   "source": []
  }
 ],
 "metadata": {
  "kernelspec": {
   "display_name": "Python 3 (ipykernel)",
   "language": "python",
   "name": "python3"
  },
  "language_info": {
   "codemirror_mode": {
    "name": "ipython",
    "version": 3
   },
   "file_extension": ".py",
   "mimetype": "text/x-python",
   "name": "python",
   "nbconvert_exporter": "python",
   "pygments_lexer": "ipython3",
   "version": "3.11.4"
  }
 },
 "nbformat": 4,
 "nbformat_minor": 5
}
