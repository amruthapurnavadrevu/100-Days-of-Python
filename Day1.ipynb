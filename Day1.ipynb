{
 "cells": [
  {
   "cell_type": "markdown",
   "id": "26ced836",
   "metadata": {},
   "source": [
    "# Printing"
   ]
  },
  {
   "cell_type": "markdown",
   "id": "a007a9f7",
   "metadata": {},
   "source": [
    "### Simple Print statement"
   ]
  },
  {
   "cell_type": "code",
   "execution_count": 1,
   "id": "91fd3660",
   "metadata": {},
   "outputs": [
    {
     "name": "stdout",
     "output_type": "stream",
     "text": [
      "Hello World!\n"
     ]
    }
   ],
   "source": [
    "print(\"Hello World!\")"
   ]
  },
  {
   "cell_type": "markdown",
   "id": "68edd10a",
   "metadata": {},
   "source": [
    "### Printing Quotes"
   ]
  },
  {
   "cell_type": "code",
   "execution_count": 2,
   "id": "4d932498",
   "metadata": {},
   "outputs": [
    {
     "name": "stdout",
     "output_type": "stream",
     "text": [
      "'Hello World!'\n"
     ]
    }
   ],
   "source": [
    "print(\"'Hello World!'\")"
   ]
  },
  {
   "cell_type": "code",
   "execution_count": 3,
   "id": "c6b8f09a",
   "metadata": {},
   "outputs": [
    {
     "name": "stdout",
     "output_type": "stream",
     "text": [
      "\"Hello World!\"\n"
     ]
    }
   ],
   "source": [
    "print('\"Hello World!\"')"
   ]
  },
  {
   "cell_type": "markdown",
   "id": "33363c21",
   "metadata": {},
   "source": [
    "### Printing in multiple lines with a single print statement"
   ]
  },
  {
   "cell_type": "code",
   "execution_count": 5,
   "id": "b6cab35d",
   "metadata": {},
   "outputs": [
    {
     "name": "stdout",
     "output_type": "stream",
     "text": [
      "\n",
      "These are exercises\n",
      "from 100 days of Python\n",
      "tutorial by Angela Yu\n"
     ]
    }
   ],
   "source": [
    "print(\"\"\"\n",
    "These are exercises\n",
    "from 100 days of Python\n",
    "tutorial by Angela Yu\"\"\")"
   ]
  },
  {
   "cell_type": "code",
   "execution_count": 6,
   "id": "80ca4629",
   "metadata": {},
   "outputs": [
    {
     "name": "stdout",
     "output_type": "stream",
     "text": [
      "Hello World!\n",
      "Hello World!\n",
      " Hello World!\n",
      " Hello \n",
      " World!\n"
     ]
    }
   ],
   "source": [
    "print(\"Hello World!\\nHello World!\\n Hello World!\\n Hello \\n World!\")"
   ]
  },
  {
   "cell_type": "markdown",
   "id": "69a5c69e",
   "metadata": {},
   "source": [
    "### Concatenation"
   ]
  },
  {
   "cell_type": "code",
   "execution_count": 7,
   "id": "12d59162",
   "metadata": {},
   "outputs": [
    {
     "name": "stdout",
     "output_type": "stream",
     "text": [
      "HelloWorld!\n"
     ]
    }
   ],
   "source": [
    "print(\"Hello\" + \"World!\")"
   ]
  },
  {
   "cell_type": "code",
   "execution_count": 8,
   "id": "30aac385",
   "metadata": {},
   "outputs": [
    {
     "name": "stdout",
     "output_type": "stream",
     "text": [
      "Hello World!\n"
     ]
    }
   ],
   "source": [
    "print(\"Hello \" + \"World!\")"
   ]
  },
  {
   "cell_type": "code",
   "execution_count": 10,
   "id": "00220559",
   "metadata": {},
   "outputs": [
    {
     "name": "stdout",
     "output_type": "stream",
     "text": [
      "Hello World!\n"
     ]
    }
   ],
   "source": [
    "print(\"Hello\" + \" \" + \"World!\")"
   ]
  },
  {
   "cell_type": "markdown",
   "id": "7ce33e7e",
   "metadata": {},
   "source": [
    "# Input"
   ]
  },
  {
   "cell_type": "code",
   "execution_count": 14,
   "id": "1aa27cf9",
   "metadata": {},
   "outputs": [
    {
     "name": "stdout",
     "output_type": "stream",
     "text": [
      "What is your name? Amrutha\n",
      "Hello Amrutha\n"
     ]
    }
   ],
   "source": [
    "print(\"Hello \" + input(\"What is your name? \"))"
   ]
  },
  {
   "cell_type": "code",
   "execution_count": 16,
   "id": "f865f298",
   "metadata": {},
   "outputs": [
    {
     "name": "stdout",
     "output_type": "stream",
     "text": [
      "Enter the first number: -20\n",
      "Enter the second number: 99\n",
      "Product of the numbers = -1980\n"
     ]
    }
   ],
   "source": [
    "num1 = int(input(\"Enter the first number: \"))\n",
    "num2 = int(input(\"Enter the second number: \"))\n",
    "print(\"Product of the numbers =\", num1*num2)"
   ]
  },
  {
   "cell_type": "markdown",
   "id": "f731558a",
   "metadata": {},
   "source": [
    "# Variables"
   ]
  },
  {
   "cell_type": "code",
   "execution_count": 17,
   "id": "2a83e5bf",
   "metadata": {},
   "outputs": [
    {
     "name": "stdout",
     "output_type": "stream",
     "text": [
      "12\n",
      "24\n",
      "a:  24\n",
      "b:  12\n"
     ]
    }
   ],
   "source": [
    "#Swapping\n",
    "\n",
    "a = input()\n",
    "b = input()\n",
    "\n",
    "c = a\n",
    "a = b\n",
    "b = c\n",
    "\n",
    "print(\"a: \",a)\n",
    "print(\"b: \",b)"
   ]
  },
  {
   "cell_type": "code",
   "execution_count": null,
   "id": "3e35762b",
   "metadata": {},
   "outputs": [],
   "source": []
  },
  {
   "cell_type": "code",
   "execution_count": null,
   "id": "1d60f54d",
   "metadata": {},
   "outputs": [],
   "source": []
  },
  {
   "cell_type": "markdown",
   "id": "fa0d4b77",
   "metadata": {},
   "source": [
    "# Project: Band Name Generator"
   ]
  },
  {
   "cell_type": "code",
   "execution_count": 18,
   "id": "9c490c74",
   "metadata": {},
   "outputs": [
    {
     "name": "stdout",
     "output_type": "stream",
     "text": [
      "Welcome to the Band Name Generator.\n",
      "Enter the name of the city you grew up in: Hyderabad\n",
      "Enter the name of your pet: Tommy\n",
      "Your band name could be Hyderabad Tommy\n"
     ]
    }
   ],
   "source": [
    "#This band name generator takes the name of your city and your pet and generates a band name. \n",
    "\n",
    "print(\"Welcome to the Band Name Generator.\")\n",
    "city_name = input(\"Enter the name of the city you grew up in: \")\n",
    "pets_name = input(\"Enter the name of your pet: \")\n",
    "print(\"Your band name could be \"+city_name + \" \" +pets_name)"
   ]
  },
  {
   "cell_type": "code",
   "execution_count": null,
   "id": "c30f0e2a",
   "metadata": {},
   "outputs": [],
   "source": []
  }
 ],
 "metadata": {
  "kernelspec": {
   "display_name": "Python 3 (ipykernel)",
   "language": "python",
   "name": "python3"
  },
  "language_info": {
   "codemirror_mode": {
    "name": "ipython",
    "version": 3
   },
   "file_extension": ".py",
   "mimetype": "text/x-python",
   "name": "python",
   "nbconvert_exporter": "python",
   "pygments_lexer": "ipython3",
   "version": "3.11.4"
  }
 },
 "nbformat": 4,
 "nbformat_minor": 5
}
