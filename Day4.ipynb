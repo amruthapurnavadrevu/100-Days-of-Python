{
 "cells": [
  {
   "cell_type": "markdown",
   "id": "b227ee12",
   "metadata": {},
   "source": [
    "# Randomisation and Python lists"
   ]
  },
  {
   "cell_type": "code",
   "execution_count": 3,
   "id": "fdad21a2",
   "metadata": {},
   "outputs": [],
   "source": [
    "import random"
   ]
  },
  {
   "cell_type": "code",
   "execution_count": 5,
   "id": "de55e2ee",
   "metadata": {},
   "outputs": [
    {
     "data": {
      "text/plain": [
       "148"
      ]
     },
     "execution_count": 5,
     "metadata": {},
     "output_type": "execute_result"
    }
   ],
   "source": [
    "random_integer = random.randint(100,200) #both inclusive\n",
    "random_integer"
   ]
  },
  {
   "cell_type": "code",
   "execution_count": 6,
   "id": "cc5dd5f2",
   "metadata": {},
   "outputs": [
    {
     "data": {
      "text/plain": [
       "0.3249460542063196"
      ]
     },
     "execution_count": 6,
     "metadata": {},
     "output_type": "execute_result"
    }
   ],
   "source": [
    "random_float = random.random() #lower end is 0(incl) and upper end is 1(excl)\n",
    "random_float"
   ]
  },
  {
   "cell_type": "markdown",
   "id": "d6be6082",
   "metadata": {},
   "source": [
    "### Heads or Tails"
   ]
  },
  {
   "cell_type": "code",
   "execution_count": 7,
   "id": "e18949ba",
   "metadata": {},
   "outputs": [
    {
     "name": "stdout",
     "output_type": "stream",
     "text": [
      "Tails\n"
     ]
    }
   ],
   "source": [
    "import random\n",
    "\n",
    "Heads = 1\n",
    "Tails = 0\n",
    "\n",
    "coin_toss = random.randint(0,1)\n",
    "\n",
    "if coin_toss == 1:\n",
    "  print(\"Heads\")\n",
    "else:\n",
    "  print(\"Tails\")"
   ]
  },
  {
   "cell_type": "markdown",
   "id": "67569a2c",
   "metadata": {},
   "source": [
    "## Lists"
   ]
  },
  {
   "cell_type": "code",
   "execution_count": 8,
   "id": "094237fe",
   "metadata": {},
   "outputs": [
    {
     "data": {
      "text/plain": [
       "['Andhra Pradesh',\n",
       " 'Arunachal Pradesh',\n",
       " 'Bihar',\n",
       " 'Chhattisgrah',\n",
       " 'Delhi',\n",
       " 'Goa',\n",
       " 'Hyderabad',\n",
       " 'Jharkhand']"
      ]
     },
     "execution_count": 8,
     "metadata": {},
     "output_type": "execute_result"
    }
   ],
   "source": [
    "states_of_India = [\"Andhra Pradesh\", \"Arunachal Pradesh\", \"Bihar\", \"Chhattisgrah\", \"Delhi\", \"Goa\", \"Hyderabad\", \"Jharkhand\"]\n",
    "\n",
    "states_of_India"
   ]
  },
  {
   "cell_type": "code",
   "execution_count": 9,
   "id": "90e499c9",
   "metadata": {},
   "outputs": [
    {
     "data": {
      "text/plain": [
       "'Goa'"
      ]
     },
     "execution_count": 9,
     "metadata": {},
     "output_type": "execute_result"
    }
   ],
   "source": [
    "states_of_India[5]"
   ]
  },
  {
   "cell_type": "code",
   "execution_count": 13,
   "id": "93a0dde1",
   "metadata": {},
   "outputs": [
    {
     "data": {
      "text/plain": [
       "['Andhra Pradesh',\n",
       " 'Arunachal Pradesh',\n",
       " 'Bihar',\n",
       " 'Chhattisgrah',\n",
       " 'Delhi',\n",
       " 'Goa',\n",
       " 'Hyderabad',\n",
       " 'Jharkhand',\n",
       " 'Telangana',\n",
       " 'Telangana',\n",
       " 'Uttar Pradesh']"
      ]
     },
     "execution_count": 13,
     "metadata": {},
     "output_type": "execute_result"
    }
   ],
   "source": [
    "states_of_India.append(\"Uttar Pradesh\")\n",
    "\n",
    "states_of_India"
   ]
  },
  {
   "cell_type": "code",
   "execution_count": 14,
   "id": "eb622b98",
   "metadata": {},
   "outputs": [
    {
     "data": {
      "text/plain": [
       "['Andhra Pradesh',\n",
       " 'Arunachal Pradesh',\n",
       " 'Bihar',\n",
       " 'Chhattisgrah',\n",
       " 'Delhi',\n",
       " 'Goa',\n",
       " 'Hyderabad',\n",
       " 'Jharkhand',\n",
       " 'Telangana',\n",
       " 'Uttar Pradesh']"
      ]
     },
     "execution_count": 14,
     "metadata": {},
     "output_type": "execute_result"
    }
   ],
   "source": [
    "states_of_India.remove('Telangana')\n",
    "\n",
    "states_of_India"
   ]
  },
  {
   "cell_type": "code",
   "execution_count": 15,
   "id": "9c121280",
   "metadata": {},
   "outputs": [
    {
     "data": {
      "text/plain": [
       "['Andhra Pradesh',\n",
       " 'Arunachal Pradesh',\n",
       " 'Bihar',\n",
       " 'Chhattisgrah',\n",
       " 'Delhi',\n",
       " 'Goa',\n",
       " 'Hyderabad',\n",
       " 'Jharkhand',\n",
       " 'Telangana',\n",
       " 'Uttar Pradesh',\n",
       " 'Orissa',\n",
       " 'Tamil Nadu']"
      ]
     },
     "execution_count": 15,
     "metadata": {},
     "output_type": "execute_result"
    }
   ],
   "source": [
    "states_of_India.extend([\"Orissa\", \"Tamil Nadu\"])\n",
    "\n",
    "states_of_India"
   ]
  },
  {
   "cell_type": "code",
   "execution_count": 26,
   "id": "9eaada8e",
   "metadata": {},
   "outputs": [
    {
     "name": "stdout",
     "output_type": "stream",
     "text": [
      "charlie is going to buy the meal today!\n"
     ]
    }
   ],
   "source": [
    "#Banker Roulette - Who will pay the bill?\n",
    "\n",
    "names = names_string.split(\", \")\n",
    "# The code above converts the input into an array seperating\n",
    "#each name in the input by a comma and space.\n",
    "# 🚨 Don't change the code above 👆\n",
    "\n",
    "import random\n",
    "\n",
    "length = len(names)\n",
    "\n",
    "person_buying = names[random.randint(0,length-1)]\n",
    "\n",
    "print(f\"{person_buying} is going to buy the meal today!\")\n"
   ]
  },
  {
   "cell_type": "markdown",
   "id": "370e0407",
   "metadata": {},
   "source": [
    "## Nested lists"
   ]
  },
  {
   "cell_type": "code",
   "execution_count": 27,
   "id": "75e638eb",
   "metadata": {},
   "outputs": [
    {
     "name": "stdout",
     "output_type": "stream",
     "text": [
      "Kale\n"
     ]
    }
   ],
   "source": [
    "fruits = [\"Strawberries\", \"Nectarines\", \"Apples\", \"Grapes\", \"Peaches\", \"Cherries\", \"Pears\"]\n",
    "vegetables = [\"Spinach\", \"Kale\", \"Tomatoes\", \"Celery\", \"Potatoes\"]\n",
    " \n",
    "dirty_dozen = [fruits, vegetables]\n",
    " \n",
    "print(dirty_dozen[1][1])"
   ]
  },
  {
   "cell_type": "code",
   "execution_count": 28,
   "id": "09ae447b",
   "metadata": {},
   "outputs": [
    {
     "name": "stdout",
     "output_type": "stream",
     "text": [
      "Hiding your treasure! X marks the spot.\n",
      "A2\n",
      "['⬜️', '️⬜️', '️⬜️']\n",
      "['X', '⬜️', '️⬜️']\n",
      "['⬜️️', '⬜️️', '⬜️️']\n"
     ]
    }
   ],
   "source": [
    "#Treasure Map\n",
    "\n",
    "line1 = [\"⬜️\",\"️⬜️\",\"️⬜️\"]\n",
    "line2 = [\"⬜️\",\"⬜️\",\"️⬜️\"]\n",
    "line3 = [\"⬜️️\",\"⬜️️\",\"⬜️️\"]\n",
    "map = [line1, line2, line3]\n",
    "print(\"Hiding your treasure! X marks the spot.\")\n",
    "position = input() # Where do you want to put the treasure?\n",
    "\n",
    "if position==\"A1\": \n",
    "    map[0][0]='X'\n",
    "elif position==\"B1\":\n",
    "    map[0][1]='X'\n",
    "elif position==\"C1\":\n",
    "    map[0][2]='X'\n",
    "elif position==\"A2\":\n",
    "    map[1][0]='X'\n",
    "elif position==\"B2\":\n",
    "    map[1][1]='X'\n",
    "elif position==\"C2\":\n",
    "    map[1][2]='X'\n",
    "elif position==\"A3\":\n",
    "    map[2][0]='X'\n",
    "elif position==\"B3\":\n",
    "    map[2][1]='X'\n",
    "elif position==\"C3\":\n",
    "    map[2][2]='X'\n",
    "\n",
    "print(f\"{line1}\\n{line2}\\n{line3}\")"
   ]
  },
  {
   "cell_type": "markdown",
   "id": "9f60d2a1",
   "metadata": {},
   "source": [
    "# Day4 Project - Rock, Paper, Scissors"
   ]
  },
  {
   "cell_type": "code",
   "execution_count": 34,
   "id": "fe9ae26d",
   "metadata": {},
   "outputs": [
    {
     "name": "stdout",
     "output_type": "stream",
     "text": [
      "What do you choose? Type 0 for Rock, 1 for Paper, 2 for Scissors. 2\n",
      "You chose: Scissors\n",
      "Computer chose: Rock\n",
      "Computer wins\n"
     ]
    }
   ],
   "source": [
    "import random\n",
    "\n",
    "user_input = int(input(\"What do you choose? Type 0 for Rock, 1 for Paper, 2 for Scissors. \"))\n",
    "inputs = [\"Rock\", \"Paper\", \"Scissors\"]\n",
    "\n",
    "print(f\"You chose: {inputs[user_input]}\")\n",
    "\n",
    "computer_input = random.randint(0,2)\n",
    "print(f\"Computer chose: {inputs[computer_input]}\")\n",
    "\n",
    "if computer_input > user_input:\n",
    "    if user_input == 0 and computer_input == 2:\n",
    "        print(\"You win!\")\n",
    "    else:\n",
    "        print(\"Computer wins\")\n",
    "elif computer_input < user_input:\n",
    "    if computer_input == 0 and user_input == 2:\n",
    "        print(\"Computer wins\")\n",
    "    else:\n",
    "        print(\"You win!\")\n",
    "else:\n",
    "    print(\"Play again!\")"
   ]
  },
  {
   "cell_type": "code",
   "execution_count": null,
   "id": "16f92282",
   "metadata": {},
   "outputs": [],
   "source": []
  }
 ],
 "metadata": {
  "kernelspec": {
   "display_name": "Python 3 (ipykernel)",
   "language": "python",
   "name": "python3"
  },
  "language_info": {
   "codemirror_mode": {
    "name": "ipython",
    "version": 3
   },
   "file_extension": ".py",
   "mimetype": "text/x-python",
   "name": "python",
   "nbconvert_exporter": "python",
   "pygments_lexer": "ipython3",
   "version": "3.11.4"
  }
 },
 "nbformat": 4,
 "nbformat_minor": 5
}
