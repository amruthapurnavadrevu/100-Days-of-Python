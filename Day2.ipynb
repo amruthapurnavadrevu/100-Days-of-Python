{
 "cells": [
  {
   "cell_type": "markdown",
   "id": "9c87487d",
   "metadata": {},
   "source": [
    "# Data Types, Numbers, Operations, Type Conversion, f-Strings"
   ]
  },
  {
   "cell_type": "markdown",
   "id": "99d9b232",
   "metadata": {},
   "source": [
    "## Data Types"
   ]
  },
  {
   "cell_type": "code",
   "execution_count": 2,
   "id": "cc5bf640",
   "metadata": {},
   "outputs": [
    {
     "name": "stdout",
     "output_type": "stream",
     "text": [
      "l\n"
     ]
    }
   ],
   "source": [
    "#Strings\n",
    "\n",
    "print(\"Hello\"[3]) #Subscripting: pulling a character from the string"
   ]
  },
  {
   "cell_type": "code",
   "execution_count": 3,
   "id": "ba9e697c",
   "metadata": {},
   "outputs": [
    {
     "name": "stdout",
     "output_type": "stream",
     "text": [
      "123890\n"
     ]
    }
   ],
   "source": [
    "print(\"123\"+\"890\") #similar to concatenation"
   ]
  },
  {
   "cell_type": "code",
   "execution_count": 4,
   "id": "4a4c44c0",
   "metadata": {},
   "outputs": [
    {
     "name": "stdout",
     "output_type": "stream",
     "text": [
      "1013\n"
     ]
    }
   ],
   "source": [
    "print(int(\"123\")+int(\"890\"))"
   ]
  },
  {
   "cell_type": "code",
   "execution_count": 6,
   "id": "fd285c7b",
   "metadata": {},
   "outputs": [],
   "source": [
    "# 789_123_567 is similar to 789,123,567. For readability."
   ]
  },
  {
   "cell_type": "code",
   "execution_count": 5,
   "id": "64ef0c0c",
   "metadata": {},
   "outputs": [],
   "source": [
    "# Boolean values are True and False where T and F are capitals. "
   ]
  },
  {
   "cell_type": "markdown",
   "id": "b52a2ae6",
   "metadata": {},
   "source": [
    "## Addressing type errors"
   ]
  },
  {
   "cell_type": "code",
   "execution_count": 7,
   "id": "3034eef5",
   "metadata": {},
   "outputs": [
    {
     "name": "stdout",
     "output_type": "stream",
     "text": [
      "What is your name? Amrutha\n"
     ]
    },
    {
     "ename": "TypeError",
     "evalue": "can only concatenate str (not \"int\") to str",
     "output_type": "error",
     "traceback": [
      "\u001b[0;31m---------------------------------------------------------------------------\u001b[0m",
      "\u001b[0;31mTypeError\u001b[0m                                 Traceback (most recent call last)",
      "Cell \u001b[0;32mIn[7], line 2\u001b[0m\n\u001b[1;32m      1\u001b[0m length \u001b[38;5;241m=\u001b[39m \u001b[38;5;28mlen\u001b[39m(\u001b[38;5;28minput\u001b[39m(\u001b[38;5;124m\"\u001b[39m\u001b[38;5;124mWhat is your name? \u001b[39m\u001b[38;5;124m\"\u001b[39m))\n\u001b[0;32m----> 2\u001b[0m \u001b[38;5;28mprint\u001b[39m(\u001b[38;5;124m\"\u001b[39m\u001b[38;5;124mYour name has \u001b[39m\u001b[38;5;124m\"\u001b[39m \u001b[38;5;241m+\u001b[39m length \u001b[38;5;241m+\u001b[39m \u001b[38;5;124m\"\u001b[39m\u001b[38;5;124mletters.\u001b[39m\u001b[38;5;124m\"\u001b[39m)\n",
      "\u001b[0;31mTypeError\u001b[0m: can only concatenate str (not \"int\") to str"
     ]
    }
   ],
   "source": [
    "length = len(input(\"What is your name? \"))\n",
    "print(\"Your name has \" + length + \"letters.\")"
   ]
  },
  {
   "cell_type": "code",
   "execution_count": 8,
   "id": "cba0bcf9",
   "metadata": {},
   "outputs": [
    {
     "data": {
      "text/plain": [
       "int"
      ]
     },
     "execution_count": 8,
     "metadata": {},
     "output_type": "execute_result"
    }
   ],
   "source": [
    "#To address this error, we change the type of the string\n",
    "\n",
    "type(length)"
   ]
  },
  {
   "cell_type": "code",
   "execution_count": 9,
   "id": "e8d5d3d6",
   "metadata": {},
   "outputs": [
    {
     "name": "stdout",
     "output_type": "stream",
     "text": [
      "Your name has 7 letters.\n"
     ]
    }
   ],
   "source": [
    "#change this to string, since only strings can be concatenated\n",
    "\n",
    "print(\"Your name has \"+str(length)+\" letters.\")"
   ]
  },
  {
   "cell_type": "code",
   "execution_count": 10,
   "id": "84901d1e",
   "metadata": {},
   "outputs": [
    {
     "name": "stdout",
     "output_type": "stream",
     "text": [
      "<class 'int'>\n"
     ]
    }
   ],
   "source": [
    "a = 123\n",
    "\n",
    "print(type(a))"
   ]
  },
  {
   "cell_type": "code",
   "execution_count": 12,
   "id": "4a51bcf5",
   "metadata": {},
   "outputs": [
    {
     "name": "stdout",
     "output_type": "stream",
     "text": [
      "b is 123 and type is <class 'int'>\n",
      "c is 123.0 and type is <class 'float'>\n",
      "d is True and type is <class 'bool'>\n"
     ]
    }
   ],
   "source": [
    "b = int(a)\n",
    "c = float(a)\n",
    "d = bool(a)\n",
    "\n",
    "print(f\"b is {b} and type is {type(b)}\")\n",
    "print(f\"c is {c} and type is {type(c)}\")\n",
    "print(f\"d is {d} and type is {type(d)}\")"
   ]
  },
  {
   "cell_type": "markdown",
   "id": "2c38b0a7",
   "metadata": {},
   "source": [
    "## Mathematical Operations"
   ]
  },
  {
   "cell_type": "code",
   "execution_count": 13,
   "id": "ef207663",
   "metadata": {},
   "outputs": [],
   "source": [
    "# +, -, *, /\n",
    "# Division always results in a float number\n",
    "# ** = power (base ** power)\n",
    "\n",
    "# Rule: PEMDAS - Parentheses, Exponent, Multiplication or Division (based on order from L to R), Addition or Subtraction\n",
    "    ## ()\n",
    "    ## **\n",
    "    ## * /\n",
    "    ## + -\n"
   ]
  },
  {
   "cell_type": "code",
   "execution_count": 14,
   "id": "4abc9f2f",
   "metadata": {},
   "outputs": [
    {
     "name": "stdout",
     "output_type": "stream",
     "text": [
      "7.0\n"
     ]
    }
   ],
   "source": [
    "print(3 * 3 + 3 / 3 - 3)"
   ]
  },
  {
   "cell_type": "code",
   "execution_count": 16,
   "id": "b6ac2ea2",
   "metadata": {},
   "outputs": [
    {
     "name": "stdout",
     "output_type": "stream",
     "text": [
      "3.0\n"
     ]
    }
   ],
   "source": [
    "# Challenge is to make changes to the above expression based on PEMDAS rule to get an output of 3\n",
    "\n",
    "print(3 * (3 + 3)/ 3 - 3)"
   ]
  },
  {
   "cell_type": "markdown",
   "id": "3e0ae332",
   "metadata": {},
   "source": [
    "## BMI Calculator"
   ]
  },
  {
   "cell_type": "code",
   "execution_count": 17,
   "id": "548f9521",
   "metadata": {},
   "outputs": [
    {
     "name": "stdout",
     "output_type": "stream",
     "text": [
      "1.58\n",
      "57\n",
      "22\n"
     ]
    }
   ],
   "source": [
    "# 1st input: enter height in meters e.g: 1.65\n",
    "height = input()\n",
    "# 2nd input: enter weight in kilograms e.g: 72\n",
    "weight = input()\n",
    "\n",
    "BMI = float(weight) / float(height) ** 2\n",
    "\n",
    "print(int(BMI))"
   ]
  },
  {
   "cell_type": "code",
   "execution_count": 18,
   "id": "6c13c629",
   "metadata": {},
   "outputs": [
    {
     "name": "stdout",
     "output_type": "stream",
     "text": [
      "3\n"
     ]
    }
   ],
   "source": [
    "# Round function\n",
    "\n",
    "print(round(22/7))"
   ]
  },
  {
   "cell_type": "code",
   "execution_count": 19,
   "id": "e1421f13",
   "metadata": {},
   "outputs": [
    {
     "name": "stdout",
     "output_type": "stream",
     "text": [
      "3.14\n"
     ]
    }
   ],
   "source": [
    "print(round(22/7,2))"
   ]
  },
  {
   "cell_type": "code",
   "execution_count": 20,
   "id": "0f738798",
   "metadata": {},
   "outputs": [
    {
     "name": "stdout",
     "output_type": "stream",
     "text": [
      "3\n"
     ]
    }
   ],
   "source": [
    "# Floor division - a division that results in an integer\n",
    "\n",
    "print(22//7)"
   ]
  },
  {
   "cell_type": "code",
   "execution_count": 21,
   "id": "7d8624bc",
   "metadata": {},
   "outputs": [
    {
     "name": "stdout",
     "output_type": "stream",
     "text": [
      "3.142857142857143\n"
     ]
    }
   ],
   "source": [
    "print(22/7)"
   ]
  },
  {
   "cell_type": "code",
   "execution_count": 22,
   "id": "682154aa",
   "metadata": {},
   "outputs": [
    {
     "name": "stdout",
     "output_type": "stream",
     "text": [
      "<class 'int'>\n"
     ]
    }
   ],
   "source": [
    "print(type(22//7))"
   ]
  },
  {
   "cell_type": "markdown",
   "id": "58930fba",
   "metadata": {},
   "source": [
    "## f-strings"
   ]
  },
  {
   "cell_type": "code",
   "execution_count": 23,
   "id": "6817a72f",
   "metadata": {},
   "outputs": [
    {
     "name": "stdout",
     "output_type": "stream",
     "text": [
      "your score is 0, your height is 1.8 and you are winning is True\n"
     ]
    }
   ],
   "source": [
    "score = 0\n",
    "height = 1.8\n",
    "isWinning = True\n",
    "\n",
    "print(f\"your score is {score}, your height is {height} and you are winning is {isWinning}\")"
   ]
  },
  {
   "cell_type": "markdown",
   "id": "554e51b4",
   "metadata": {},
   "source": [
    "# Project - Tip Calculator"
   ]
  },
  {
   "cell_type": "code",
   "execution_count": 25,
   "id": "3f025d43",
   "metadata": {},
   "outputs": [
    {
     "name": "stdout",
     "output_type": "stream",
     "text": [
      "Welcome to the tip calculator.\n"
     ]
    }
   ],
   "source": [
    "print(\"Welcome to the tip calculator.\")"
   ]
  },
  {
   "cell_type": "code",
   "execution_count": 27,
   "id": "5a34a40e",
   "metadata": {},
   "outputs": [
    {
     "name": "stdout",
     "output_type": "stream",
     "text": [
      "What was the total bill? $124.56\n",
      "What percentage tip would you like to give? 10, 12, or 15? 12\n",
      "How many people to split the bill? 7\n",
      "Each person should pay: $19.93\n"
     ]
    }
   ],
   "source": [
    "total_bill = float(input(\"What was the total bill? $\"))\n",
    "tip_percent = int(input(\"What percentage tip would you like to give? 10, 12, or 15? \"))\n",
    "num_people = int(input(\"How many people to split the bill? \"))\n",
    "\n",
    "tip = total_bill*tip_percent\n",
    "\n",
    "bill_with_tip = total_bill + tip/100\n",
    "\n",
    "split = bill_with_tip / num_people\n",
    "\n",
    "print(f\"Each person should pay: ${round(split,2)}\")"
   ]
  },
  {
   "cell_type": "code",
   "execution_count": null,
   "id": "4da6d378",
   "metadata": {},
   "outputs": [],
   "source": []
  }
 ],
 "metadata": {
  "kernelspec": {
   "display_name": "Python 3 (ipykernel)",
   "language": "python",
   "name": "python3"
  },
  "language_info": {
   "codemirror_mode": {
    "name": "ipython",
    "version": 3
   },
   "file_extension": ".py",
   "mimetype": "text/x-python",
   "name": "python",
   "nbconvert_exporter": "python",
   "pygments_lexer": "ipython3",
   "version": "3.11.4"
  }
 },
 "nbformat": 4,
 "nbformat_minor": 5
}
