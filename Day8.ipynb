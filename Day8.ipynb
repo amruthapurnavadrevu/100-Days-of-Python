{
 "cells": [
  {
   "cell_type": "markdown",
   "id": "1ff26acc",
   "metadata": {},
   "source": [
    "# Functions with Inputs"
   ]
  },
  {
   "cell_type": "code",
   "execution_count": 1,
   "id": "33ed80fa",
   "metadata": {},
   "outputs": [
    {
     "name": "stdout",
     "output_type": "stream",
     "text": [
      "Hi!\n",
      "This is Amrutha.\n",
      "Nice to meet you.\n"
     ]
    }
   ],
   "source": [
    "def greet():\n",
    "    print(\"Hi!\")\n",
    "    print(\"This is Amrutha.\")\n",
    "    print(\"Nice to meet you.\")\n",
    "\n",
    "greet()"
   ]
  },
  {
   "cell_type": "code",
   "execution_count": 3,
   "id": "100cd63b",
   "metadata": {},
   "outputs": [
    {
     "name": "stdout",
     "output_type": "stream",
     "text": [
      "Enter your name: Aishu\n",
      "Hello Aishu\n",
      "This is Amrutha. Nice to meet you.\n"
     ]
    }
   ],
   "source": [
    "name = input(\"Enter your name: \")\n",
    "\n",
    "def greet(name):\n",
    "    print(f\"Hello {name}\")\n",
    "    print(\"This is Amrutha. Nice to meet you.\")\n",
    "\n",
    "greet(name)#Here \"name\" is the parameter of the function and argument is the actual value being passed to the function"
   ]
  },
  {
   "cell_type": "code",
   "execution_count": 4,
   "id": "f5c330ad",
   "metadata": {},
   "outputs": [
    {
     "name": "stdout",
     "output_type": "stream",
     "text": [
      "Hi Aishu\n",
      "What is it like in California\n"
     ]
    }
   ],
   "source": [
    "def greet(name, location):\n",
    "    print(f\"Hi {name}!\")\n",
    "    print(f\"What is it like in {location}?\")\n",
    "\n",
    "greet(\"Aishu\", \"California\")"
   ]
  },
  {
   "cell_type": "markdown",
   "id": "1ed9a9c4",
   "metadata": {},
   "source": [
    "## Paint can calculator"
   ]
  },
  {
   "cell_type": "code",
   "execution_count": 5,
   "id": "99558c50",
   "metadata": {},
   "outputs": [
    {
     "name": "stdout",
     "output_type": "stream",
     "text": [
      "4\n",
      "9\n",
      "You'll need 8 cans of paint.\n"
     ]
    }
   ],
   "source": [
    "import math\n",
    "def paint_calc(height, width, cover):\n",
    "    no_of_cans = math.ceil((height*width)/cover)\n",
    "    print(f\"You'll need {no_of_cans} cans of paint.\")\n",
    "\n",
    "test_h = int(input()) # Height of wall (m)\n",
    "test_w = int(input()) # Width of wall (m)\n",
    "coverage = 5\n",
    "paint_calc(height=test_h, width=test_w, cover=coverage)\n"
   ]
  },
  {
   "cell_type": "markdown",
   "id": "79a96f2d",
   "metadata": {},
   "source": [
    "## Prime number checker"
   ]
  },
  {
   "cell_type": "code",
   "execution_count": 18,
   "id": "5c6beb37",
   "metadata": {},
   "outputs": [
    {
     "name": "stdout",
     "output_type": "stream",
     "text": [
      "4\n",
      "It's not a prime number.\n"
     ]
    }
   ],
   "source": [
    "def prime_checker(number):\n",
    "    if number==2:\n",
    "        print(\"It's a prime number.\")\n",
    "    else:\n",
    "        for n in range(2,number):\n",
    "            if number%n==0:\n",
    "                print(\"It's not a prime number.\")\n",
    "                return\n",
    "    \n",
    "        print(\"It's a prime number.\")\n",
    "\n",
    "n = int(input()) # Check this number\n",
    "prime_checker(number=n)"
   ]
  },
  {
   "cell_type": "markdown",
   "id": "c636f20f",
   "metadata": {},
   "source": [
    "## Caesar Cipher"
   ]
  },
  {
   "cell_type": "code",
   "execution_count": 1,
   "id": "34db5ee2",
   "metadata": {},
   "outputs": [
    {
     "name": "stdout",
     "output_type": "stream",
     "text": [
      "Type 'encode' to encrypt, type 'decode' to decrypt: encode\n",
      "Type your message: Hello\n",
      "Type the shift number: 5\n",
      "Mjqqt\n",
      "Type \"yes\" if you want to go again. Otherwise type \"no\": no\n",
      "Ok, bye!\n"
     ]
    }
   ],
   "source": [
    "def caesar_cipher():\n",
    "    operation = input(\"Type 'encode' to encrypt, type 'decode' to decrypt: \").lower()\n",
    "    message = input(\"Type your message: \")\n",
    "    shift = int(input(\"Type the shift number: \"))\n",
    "\n",
    "    def encode(message, shift):\n",
    "        new_message = \"\"\n",
    "        for char in message:\n",
    "            if char.isalpha():\n",
    "                shifted = ord(char) + shift\n",
    "                if char.islower():\n",
    "                    new_message += chr((shifted - ord('a')) % 26 + ord('a'))\n",
    "                else:\n",
    "                    new_message += chr((shifted - ord('A')) % 26 + ord('A'))\n",
    "            else:\n",
    "                new_message += char\n",
    "        print(new_message)\n",
    "    \n",
    "    def decode(message, shift):\n",
    "        original_message = ''\n",
    "        for char in message:\n",
    "            if char.isalpha():\n",
    "                shifted = ord(char) - shift\n",
    "                if char.islower():\n",
    "                    original_message += chr((shifted - ord('a')) % 26 + ord('a'))\n",
    "                else:\n",
    "                    original_message += chr((shifted - ord('A')) % 26 + ord('A'))\n",
    "            else:\n",
    "                original_message += char\n",
    "        print(original_message)\n",
    "\n",
    "    if operation == \"encode\":\n",
    "        encode(message, shift)\n",
    "    elif operation == \"decode\":\n",
    "        decode(message, shift)\n",
    "\n",
    "    repeat = input('Type \"yes\" if you want to go again. Otherwise type \"no\": ').lower()\n",
    "\n",
    "    if repeat == \"yes\":\n",
    "        caesar_cipher()\n",
    "    else:\n",
    "        print(\"Ok, bye!\")\n",
    "\n",
    "caesar_cipher()\n"
   ]
  },
  {
   "cell_type": "code",
   "execution_count": null,
   "id": "47988ff2",
   "metadata": {},
   "outputs": [],
   "source": []
  }
 ],
 "metadata": {
  "kernelspec": {
   "display_name": "Python 3 (ipykernel)",
   "language": "python",
   "name": "python3"
  },
  "language_info": {
   "codemirror_mode": {
    "name": "ipython",
    "version": 3
   },
   "file_extension": ".py",
   "mimetype": "text/x-python",
   "name": "python",
   "nbconvert_exporter": "python",
   "pygments_lexer": "ipython3",
   "version": "3.11.4"
  }
 },
 "nbformat": 4,
 "nbformat_minor": 5
}
